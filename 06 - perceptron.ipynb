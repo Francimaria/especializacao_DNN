{
 "cells": [
  {
   "cell_type": "markdown",
   "metadata": {},
   "source": [
    "# Perceptron\n",
    "\n",
    "***"
   ]
  },
  {
   "cell_type": "markdown",
   "metadata": {},
   "source": [
    "## Importando bibliotecas"
   ]
  },
  {
   "cell_type": "code",
   "execution_count": 1,
   "metadata": {},
   "outputs": [
    {
     "name": "stdout",
     "output_type": "stream",
     "text": [
      "Defaulting to user installation because normal site-packages is not writeable\n",
      "Collecting mlxtend\n",
      "  Downloading mlxtend-0.23.1-py3-none-any.whl.metadata (7.3 kB)\n",
      "Requirement already satisfied: scipy>=1.2.1 in /home/npi/.local/lib/python3.10/site-packages (from mlxtend) (1.11.3)\n",
      "Requirement already satisfied: numpy>=1.16.2 in /home/npi/.local/lib/python3.10/site-packages (from mlxtend) (1.26.2)\n",
      "Requirement already satisfied: pandas>=0.24.2 in /home/npi/.local/lib/python3.10/site-packages (from mlxtend) (2.1.3)\n",
      "Requirement already satisfied: scikit-learn>=1.0.2 in /home/npi/.local/lib/python3.10/site-packages (from mlxtend) (1.3.2)\n",
      "Requirement already satisfied: matplotlib>=3.0.0 in /home/npi/.local/lib/python3.10/site-packages (from mlxtend) (3.8.1)\n",
      "Requirement already satisfied: joblib>=0.13.2 in /home/npi/.local/lib/python3.10/site-packages (from mlxtend) (1.3.2)\n",
      "Requirement already satisfied: contourpy>=1.0.1 in /home/npi/.local/lib/python3.10/site-packages (from matplotlib>=3.0.0->mlxtend) (1.2.0)\n",
      "Requirement already satisfied: cycler>=0.10 in /home/npi/.local/lib/python3.10/site-packages (from matplotlib>=3.0.0->mlxtend) (0.12.1)\n",
      "Requirement already satisfied: fonttools>=4.22.0 in /home/npi/.local/lib/python3.10/site-packages (from matplotlib>=3.0.0->mlxtend) (4.44.3)\n",
      "Requirement already satisfied: kiwisolver>=1.3.1 in /home/npi/.local/lib/python3.10/site-packages (from matplotlib>=3.0.0->mlxtend) (1.4.5)\n",
      "Requirement already satisfied: packaging>=20.0 in /home/npi/.local/lib/python3.10/site-packages (from matplotlib>=3.0.0->mlxtend) (23.2)\n",
      "Requirement already satisfied: pillow>=8 in /usr/lib/python3/dist-packages (from matplotlib>=3.0.0->mlxtend) (9.0.1)\n",
      "Requirement already satisfied: pyparsing>=2.3.1 in /usr/lib/python3/dist-packages (from matplotlib>=3.0.0->mlxtend) (2.4.7)\n",
      "Requirement already satisfied: python-dateutil>=2.7 in /home/npi/.local/lib/python3.10/site-packages (from matplotlib>=3.0.0->mlxtend) (2.8.2)\n",
      "Requirement already satisfied: pytz>=2020.1 in /usr/lib/python3/dist-packages (from pandas>=0.24.2->mlxtend) (2022.1)\n",
      "Requirement already satisfied: tzdata>=2022.1 in /home/npi/.local/lib/python3.10/site-packages (from pandas>=0.24.2->mlxtend) (2023.3)\n",
      "Requirement already satisfied: threadpoolctl>=2.0.0 in /home/npi/.local/lib/python3.10/site-packages (from scikit-learn>=1.0.2->mlxtend) (3.2.0)\n",
      "Requirement already satisfied: six>=1.5 in /usr/lib/python3/dist-packages (from python-dateutil>=2.7->matplotlib>=3.0.0->mlxtend) (1.16.0)\n",
      "Downloading mlxtend-0.23.1-py3-none-any.whl (1.4 MB)\n",
      "\u001b[2K   \u001b[90m━━━━━━━━━━━━━━━━━━━━━━━━━━━━━━━━━━━━━━━━\u001b[0m \u001b[32m1.4/1.4 MB\u001b[0m \u001b[31m4.8 MB/s\u001b[0m eta \u001b[36m0:00:00\u001b[0ma \u001b[36m0:00:01\u001b[0m0m\n",
      "\u001b[?25hInstalling collected packages: mlxtend\n",
      "Successfully installed mlxtend-0.23.1\n"
     ]
    }
   ],
   "source": [
    "# Instalar a biblioteca caso ela não estaja instalada\n",
    "!pip install mlxtend"
   ]
  },
  {
   "cell_type": "code",
   "execution_count": 2,
   "metadata": {},
   "outputs": [],
   "source": [
    "# Bibliotecas de manipualção e visualização de dados\n",
    "import pandas as pd\n",
    "import numpy as np\n",
    "import matplotlib.pyplot as plt\n",
    "from mlxtend.plotting import plot_decision_regions\n",
    "\n",
    "# Classes dos modelo\n",
    "from sklearn.linear_model import Perceptron\n",
    "\n",
    "# Funções de avaliação dos modelos\n",
    "from sklearn.metrics import (confusion_matrix, \n",
    "                             ConfusionMatrixDisplay,\n",
    "                             classification_report)\n",
    "\n",
    "from sklearn.model_selection import train_test_split\n",
    "\n",
    "import warnings\n",
    "warnings.filterwarnings('ignore')"
   ]
  },
  {
   "cell_type": "markdown",
   "metadata": {},
   "source": [
    "## Análise do conjunto de dados\n",
    "\n",
    "![Iris](./imagens/iris.png)"
   ]
  },
  {
   "cell_type": "code",
   "execution_count": 3,
   "metadata": {},
   "outputs": [],
   "source": [
    "#carregando o csv\n",
    "dataset = pd.read_csv(\"https://raw.githubusercontent.com/Francimaria/especializacao_DNN/main/datasets/Iris.csv\")\n",
    "\n",
    "# Mapeando os valores da classe para inteiro (para fins de visualização da região de decisão)\n",
    "dataset['Species'] = pd.factorize(dataset['Species'])[0]"
   ]
  },
  {
   "cell_type": "markdown",
   "metadata": {},
   "source": [
    "### Separando o conjunto de dados"
   ]
  },
  {
   "cell_type": "code",
   "execution_count": 4,
   "metadata": {},
   "outputs": [],
   "source": [
    "#Vamos usar somente duas features PetalLengthCm e PetalWidthCm\n",
    "X = dataset.iloc[:,[2,3]]\n",
    "y = dataset.iloc[:,[4]]\n",
    "\n",
    "# para treinar e avaliar um classificador, precisamos dividir o dataset em dois conjuntos, ...\n",
    "X_train, X_test, y_train, y_test = train_test_split(X, y, stratify=y)"
   ]
  },
  {
   "cell_type": "markdown",
   "metadata": {},
   "source": [
    "## Treinamento do modelo \n",
    "\n",
    "**Perceptron**: o perceptron é um algoritmo para aprendizagem supervisionada de classificação binária\n",
    "\n",
    "\n",
    "\n",
    "- Para problemas multi-class no sklearn:\n",
    "Ajuste de um classificador multiclasse é realizada através da combinação de classificadores binários, cada classificador binário prevê uma classe versus todas as outras. Essa estratégia é chamada OvA (One versus All) ou OvR (One versus Rest).*\n",
    "\n",
    "\n",
    "![OvR](./imagens/OvR.png)\n",
    "\n"
   ]
  },
  {
   "cell_type": "code",
   "execution_count": 5,
   "metadata": {},
   "outputs": [],
   "source": [
    "# ... referenciando o modelo\n",
    "model = Perceptron()\n",
    "\n",
    "#treinando o modelo\n",
    "model.fit(X_train, y_train)\n",
    "\n",
    "#predição\n",
    "y_pred = model.predict(X_test)"
   ]
  },
  {
   "cell_type": "code",
   "execution_count": 6,
   "metadata": {},
   "outputs": [
    {
     "name": "stdout",
     "output_type": "stream",
     "text": [
      "              precision    recall  f1-score   support\n",
      "\n",
      "           0       0.67      1.00      0.80        12\n",
      "           1       0.00      0.00      0.00        13\n",
      "           2       0.65      1.00      0.79        13\n",
      "\n",
      "    accuracy                           0.66        38\n",
      "   macro avg       0.44      0.67      0.53        38\n",
      "weighted avg       0.43      0.66      0.52        38\n",
      "\n"
     ]
    }
   ],
   "source": [
    "# qual o resultado para esse classificador?\n",
    "print(classification_report(y_test, y_pred))"
   ]
  },
  {
   "cell_type": "code",
   "execution_count": 7,
   "metadata": {},
   "outputs": [
    {
     "name": "stdout",
     "output_type": "stream",
     "text": [
      "[[1.         0.         0.        ]\n",
      " [0.46153846 0.         0.53846154]\n",
      " [0.         0.         1.        ]]\n",
      "\n",
      " Labels:[0 1 2] \n",
      "\n"
     ]
    },
    {
     "data": {
      "text/plain": [
       "<sklearn.metrics._plot.confusion_matrix.ConfusionMatrixDisplay at 0x7ff2488d5630>"
      ]
     },
     "execution_count": 7,
     "metadata": {},
     "output_type": "execute_result"
    },
    {
     "data": {
      "image/png": "[encoded data removed]",
      "text/plain": [
       "<Figure size 640x480 with 2 Axes>"
      ]
     },
     "metadata": {},
     "output_type": "display_data"
    }
   ],
   "source": [
    "# a função confusion matrix retorna uma matriz com a contagem de como cada \n",
    "# uma das classes está sendo classificada corretamente ou erroneamente\n",
    "cm = confusion_matrix(y_test, y_pred, labels=model.classes_, normalize=\"true\")\n",
    "print(cm)\n",
    "\n",
    "print(f\"\\n Labels:{model.classes_} \\n\")\n",
    "\n",
    "#display_labels - define como será a ordem das classes na matriz\n",
    "disp_cm = ConfusionMatrixDisplay(cm, display_labels=model.classes_)\n",
    "disp_cm.plot()\n"
   ]
  },
  {
   "cell_type": "code",
   "execution_count": 8,
   "metadata": {},
   "outputs": [],
   "source": [
    "def show_decision_region(X, y, model):\n",
    "    feature_0 = X.columns[0]\n",
    "    feature_1 = X.columns[1]\n",
    "\n",
    "    plot_decision_regions(np.array([X[feature_0].values,\n",
    "                                    X[feature_1].values]).T,\n",
    "                                    y.values.flatten(), model)\n",
    "    plt.xlabel(feature_0)\n",
    "    plt.ylabel(feature_1)\n",
    "\n",
    "    plt.title(model.__class__.__name__)\n",
    "    plt.show()"
   ]
  },
  {
   "cell_type": "code",
   "execution_count": 9,
   "metadata": {},
   "outputs": [
    {
     "data": {
      "image/png": "[encoded data removed]",
      "text/plain": [
       "<Figure size 640x480 with 1 Axes>"
      ]
     },
     "metadata": {},
     "output_type": "display_data"
    }
   ],
   "source": [
    "show_decision_region(X_test, y_test, model)"
   ]
  },
  {
   "cell_type": "markdown",
   "metadata": {},
   "source": [
    "## O perceptron possui alguns parâmetros que podem ser ajustados \n",
    "\n",
    "Verifique a documentação disponível em [sklearn](https://scikit-learn.org/stable/modules/generated/sklearn.linear_model.Perceptron.html) e ajuste o modelo para este problema"
   ]
  },
  {
   "cell_type": "markdown",
   "metadata": {},
   "source": [
    "Como ajustar o perceptron? "
   ]
  },
  {
   "cell_type": "code",
   "execution_count": null,
   "metadata": {},
   "outputs": [],
   "source": []
  }
 ],
 "metadata": {
  "kernelspec": {
   "display_name": "Python 3",
   "language": "python",
   "name": "python3"
  },
  "language_info": {
   "codemirror_mode": {
    "name": "ipython",
    "version": 3
   },
   "file_extension": ".py",
   "mimetype": "text/x-python",
   "name": "python",
   "nbconvert_exporter": "python",
   "pygments_lexer": "ipython3",
   "version": "3.10.12"
  }
 },
 "nbformat": 4,
 "nbformat_minor": 4
}

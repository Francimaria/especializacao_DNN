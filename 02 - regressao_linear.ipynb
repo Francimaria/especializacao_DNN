{
 "cells": [
  {
   "attachments": {},
   "cell_type": "markdown",
   "metadata": {},
   "source": [
    "# Regressão Linear \n",
    "***"
   ]
  },
  {
   "attachments": {},
   "cell_type": "markdown",
   "metadata": {},
   "source": [
    "## Índice"
   ]
  },
  {
   "attachments": {},
   "cell_type": "markdown",
   "metadata": {},
   "source": [
    "1. [Importando bibliotecas](#importando-bibliotecas)\n",
    "2. [Análise do dataset](#análise-do-dataset)\n",
    "3. [Treinamento do modelo](#treinamento-do-modelo)"
   ]
  },
  {
   "attachments": {},
   "cell_type": "markdown",
   "metadata": {},
   "source": [
    "## Importanto Bibliotecas"
   ]
  },
  {
   "cell_type": "code",
   "execution_count": 2,
   "metadata": {},
   "outputs": [],
   "source": [
    "# Bibliotecas de manipualção e visualização de dados\n",
    "import pandas as pd\n",
    "import matplotlib.pyplot as plt\n",
    "\n",
    "# Classes dos modelo\n",
    "from sklearn.linear_model import LinearRegression\n",
    "\n",
    "#Funções de avaliação dos modelos\n",
    "from sklearn.metrics import  mean_squared_error, r2_score\n",
    "from sklearn.model_selection import train_test_split"
   ]
  },
  {
   "attachments": {},
   "cell_type": "markdown",
   "metadata": {},
   "source": [
    "## Análise do dataset\n",
    "\n",
    "**House**: A tarefa é prever o preço médio da casa na região com base na composição demográfica e no estado do mercado imobiliário na região. Descrição [link](https://sci2s.ugr.es/keel/dataset.php?cod=95#sub1)."
   ]
  },
  {
   "cell_type": "code",
   "execution_count": 3,
   "metadata": {},
   "outputs": [],
   "source": [
    "dataset = pd.read_csv(\"https://raw.githubusercontent.com/Francimaria/monitoria-ml/main/house.csv\")"
   ]
  },
  {
   "cell_type": "code",
   "execution_count": 4,
   "metadata": {},
   "outputs": [
    {
     "data": {
      "text/plain": [
       "Index(['Price', 'P1', ' P5p1', ' P6p2', ' P11p4', ' P14p9', ' P15p1', ' P15p3',\n",
       "       ' P16p2', ' P18p2', ' P27p4', ' H2p2', ' H8p2', ' H10p1', ' H13p1',\n",
       "       ' H18pA', ' H40p4'],\n",
       "      dtype='object')"
      ]
     },
     "execution_count": 4,
     "metadata": {},
     "output_type": "execute_result"
    }
   ],
   "source": [
    "dataset.columns"
   ]
  },
  {
   "cell_type": "code",
   "execution_count": 5,
   "metadata": {},
   "outputs": [
    {
     "data": {
      "text/html": [
       "<div>\n",
       "<style scoped>\n",
       "    .dataframe tbody tr th:only-of-type {\n",
       "        vertical-align: middle;\n",
       "    }\n",
       "\n",
       "    .dataframe tbody tr th {\n",
       "        vertical-align: top;\n",
       "    }\n",
       "\n",
       "    .dataframe thead th {\n",
       "        text-align: right;\n",
       "    }\n",
       "</style>\n",
       "<table border=\"1\" class=\"dataframe\">\n",
       "  <thead>\n",
       "    <tr style=\"text-align: right;\">\n",
       "      <th></th>\n",
       "      <th>Price</th>\n",
       "      <th>P1</th>\n",
       "      <th>P5p1</th>\n",
       "      <th>P6p2</th>\n",
       "      <th>P11p4</th>\n",
       "      <th>P14p9</th>\n",
       "      <th>P15p1</th>\n",
       "      <th>P15p3</th>\n",
       "      <th>P16p2</th>\n",
       "      <th>P18p2</th>\n",
       "      <th>P27p4</th>\n",
       "      <th>H2p2</th>\n",
       "      <th>H8p2</th>\n",
       "      <th>H10p1</th>\n",
       "      <th>H13p1</th>\n",
       "      <th>H18pA</th>\n",
       "      <th>H40p4</th>\n",
       "    </tr>\n",
       "  </thead>\n",
       "  <tbody>\n",
       "    <tr>\n",
       "      <th>0</th>\n",
       "      <td>14999</td>\n",
       "      <td>219</td>\n",
       "      <td>0.506849</td>\n",
       "      <td>0.031963</td>\n",
       "      <td>0.146119</td>\n",
       "      <td>0.101852</td>\n",
       "      <td>0.876712</td>\n",
       "      <td>0.000000</td>\n",
       "      <td>0.746988</td>\n",
       "      <td>0.012048</td>\n",
       "      <td>0.060241</td>\n",
       "      <td>0.231482</td>\n",
       "      <td>0.024096</td>\n",
       "      <td>0.987952</td>\n",
       "      <td>0.351852</td>\n",
       "      <td>0.000000</td>\n",
       "      <td>0.800000</td>\n",
       "    </tr>\n",
       "    <tr>\n",
       "      <th>1</th>\n",
       "      <td>106200</td>\n",
       "      <td>2273</td>\n",
       "      <td>0.495381</td>\n",
       "      <td>0.018918</td>\n",
       "      <td>0.067312</td>\n",
       "      <td>0.045336</td>\n",
       "      <td>0.794545</td>\n",
       "      <td>0.016718</td>\n",
       "      <td>0.641053</td>\n",
       "      <td>0.002105</td>\n",
       "      <td>0.076842</td>\n",
       "      <td>0.064961</td>\n",
       "      <td>0.017895</td>\n",
       "      <td>0.997895</td>\n",
       "      <td>0.170276</td>\n",
       "      <td>0.054217</td>\n",
       "      <td>0.258064</td>\n",
       "    </tr>\n",
       "    <tr>\n",
       "      <th>2</th>\n",
       "      <td>14999</td>\n",
       "      <td>564</td>\n",
       "      <td>0.457447</td>\n",
       "      <td>0.058511</td>\n",
       "      <td>0.299645</td>\n",
       "      <td>0.238562</td>\n",
       "      <td>0.764184</td>\n",
       "      <td>0.010638</td>\n",
       "      <td>0.567273</td>\n",
       "      <td>0.003636</td>\n",
       "      <td>0.014545</td>\n",
       "      <td>0.140625</td>\n",
       "      <td>0.054545</td>\n",
       "      <td>0.996364</td>\n",
       "      <td>0.381250</td>\n",
       "      <td>0.056180</td>\n",
       "      <td>1.000000</td>\n",
       "    </tr>\n",
       "    <tr>\n",
       "      <th>3</th>\n",
       "      <td>29900</td>\n",
       "      <td>620</td>\n",
       "      <td>0.495161</td>\n",
       "      <td>0.003226</td>\n",
       "      <td>0.104839</td>\n",
       "      <td>0.086262</td>\n",
       "      <td>0.909677</td>\n",
       "      <td>0.000000</td>\n",
       "      <td>0.792793</td>\n",
       "      <td>0.009009</td>\n",
       "      <td>0.027027</td>\n",
       "      <td>0.051282</td>\n",
       "      <td>0.004504</td>\n",
       "      <td>0.995495</td>\n",
       "      <td>0.183761</td>\n",
       "      <td>0.162791</td>\n",
       "      <td>0.000000</td>\n",
       "    </tr>\n",
       "    <tr>\n",
       "      <th>4</th>\n",
       "      <td>85900</td>\n",
       "      <td>3809</td>\n",
       "      <td>0.491730</td>\n",
       "      <td>0.205303</td>\n",
       "      <td>0.107115</td>\n",
       "      <td>0.085744</td>\n",
       "      <td>0.899449</td>\n",
       "      <td>0.000000</td>\n",
       "      <td>0.766566</td>\n",
       "      <td>0.008283</td>\n",
       "      <td>0.039910</td>\n",
       "      <td>0.017024</td>\n",
       "      <td>0.200301</td>\n",
       "      <td>0.985693</td>\n",
       "      <td>0.198372</td>\n",
       "      <td>0.106557</td>\n",
       "      <td>0.666667</td>\n",
       "    </tr>\n",
       "  </tbody>\n",
       "</table>\n",
       "</div>"
      ],
      "text/plain": [
       "    Price    P1      P5p1      P6p2     P11p4     P14p9     P15p1     P15p3  \\\n",
       "0   14999   219  0.506849  0.031963  0.146119  0.101852  0.876712  0.000000   \n",
       "1  106200  2273  0.495381  0.018918  0.067312  0.045336  0.794545  0.016718   \n",
       "2   14999   564  0.457447  0.058511  0.299645  0.238562  0.764184  0.010638   \n",
       "3   29900   620  0.495161  0.003226  0.104839  0.086262  0.909677  0.000000   \n",
       "4   85900  3809  0.491730  0.205303  0.107115  0.085744  0.899449  0.000000   \n",
       "\n",
       "      P16p2     P18p2     P27p4      H2p2      H8p2     H10p1     H13p1  \\\n",
       "0  0.746988  0.012048  0.060241  0.231482  0.024096  0.987952  0.351852   \n",
       "1  0.641053  0.002105  0.076842  0.064961  0.017895  0.997895  0.170276   \n",
       "2  0.567273  0.003636  0.014545  0.140625  0.054545  0.996364  0.381250   \n",
       "3  0.792793  0.009009  0.027027  0.051282  0.004504  0.995495  0.183761   \n",
       "4  0.766566  0.008283  0.039910  0.017024  0.200301  0.985693  0.198372   \n",
       "\n",
       "      H18pA     H40p4  \n",
       "0  0.000000  0.800000  \n",
       "1  0.054217  0.258064  \n",
       "2  0.056180  1.000000  \n",
       "3  0.162791  0.000000  \n",
       "4  0.106557  0.666667  "
      ]
     },
     "execution_count": 5,
     "metadata": {},
     "output_type": "execute_result"
    }
   ],
   "source": [
    "# vamos olhar para uma pequena parte do dataset\n",
    "dataset.head()"
   ]
  },
  {
   "attachments": {},
   "cell_type": "markdown",
   "metadata": {},
   "source": [
    "### Separando o conjunto de dados "
   ]
  },
  {
   "cell_type": "code",
   "execution_count": 6,
   "metadata": {},
   "outputs": [],
   "source": [
    "X = dataset.drop([\"Price\"], axis = 1)\n",
    "y = dataset[\"Price\"]\n",
    "\n",
    "X_train, X_test, y_train, y_test = train_test_split(X,y)"
   ]
  },
  {
   "attachments": {},
   "cell_type": "markdown",
   "metadata": {},
   "source": [
    "## Treinamento do modelo"
   ]
  },
  {
   "attachments": {},
   "cell_type": "markdown",
   "metadata": {},
   "source": [
    "A regressão linear é um modelo de regressão. Lembrando da fómula da equação linear: $y = a \\times x  + b$"
   ]
  },
  {
   "cell_type": "code",
   "execution_count": 7,
   "metadata": {},
   "outputs": [
    {
     "name": "stdout",
     "output_type": "stream",
     "text": [
      "MSE: 2075518591.6011374\n",
      "R2_score: 0.24709970029921347\n"
     ]
    }
   ],
   "source": [
    "regression_model = LinearRegression()\n",
    "regression_model.fit(X_train, y_train)\n",
    "\n",
    "y_pred = regression_model.predict(X_test)\n",
    "\n",
    "print(\"MSE:\", mean_squared_error(y_test, y_pred))\n",
    "print(\"R2_score:\", r2_score(y_test, y_pred))"
   ]
  },
  {
   "attachments": {},
   "cell_type": "markdown",
   "metadata": {},
   "source": [
    "MSE = $\\frac{1}{n} \\sum\\limits_{i = 1}^{n}(y_i-\\hat{y_i})^2$"
   ]
  },
  {
   "cell_type": "code",
   "execution_count": 8,
   "metadata": {},
   "outputs": [
    {
     "data": {
      "text/plain": [
       "Text(0.5, 1.0, 'True x Predicted')"
      ]
     },
     "execution_count": 8,
     "metadata": {},
     "output_type": "execute_result"
    },
    {
     "data": {
      "image/png": "[encoded data removed]",
      "text/plain": [
       "<Figure size 1500x1000 with 1 Axes>"
      ]
     },
     "metadata": {},
     "output_type": "display_data"
    }
   ],
   "source": [
    "plt.figure(figsize=(15,10))\n",
    "plt.scatter(y_test, y_pred)\n",
    "plt.xlabel(\"True\")\n",
    "plt.ylabel(\"Pred\")\n",
    "plt.title(\"True x Predicted\")"
   ]
  },
  {
   "cell_type": "code",
   "execution_count": 12,
   "metadata": {},
   "outputs": [
    {
     "data": {
      "text/html": [
       "<div>\n",
       "<style scoped>\n",
       "    .dataframe tbody tr th:only-of-type {\n",
       "        vertical-align: middle;\n",
       "    }\n",
       "\n",
       "    .dataframe tbody tr th {\n",
       "        vertical-align: top;\n",
       "    }\n",
       "\n",
       "    .dataframe thead th {\n",
       "        text-align: right;\n",
       "    }\n",
       "</style>\n",
       "<table border=\"1\" class=\"dataframe\">\n",
       "  <thead>\n",
       "    <tr style=\"text-align: right;\">\n",
       "      <th></th>\n",
       "      <th>True Value</th>\n",
       "      <th>Predicted value</th>\n",
       "      <th>Difference</th>\n",
       "    </tr>\n",
       "  </thead>\n",
       "  <tbody>\n",
       "    <tr>\n",
       "      <th>15583</th>\n",
       "      <td>41100</td>\n",
       "      <td>54548.57</td>\n",
       "      <td>-13448.57</td>\n",
       "    </tr>\n",
       "    <tr>\n",
       "      <th>675</th>\n",
       "      <td>125000</td>\n",
       "      <td>89315.98</td>\n",
       "      <td>35684.02</td>\n",
       "    </tr>\n",
       "    <tr>\n",
       "      <th>5749</th>\n",
       "      <td>30900</td>\n",
       "      <td>70121.73</td>\n",
       "      <td>-39221.73</td>\n",
       "    </tr>\n",
       "    <tr>\n",
       "      <th>2805</th>\n",
       "      <td>42200</td>\n",
       "      <td>43554.50</td>\n",
       "      <td>-1354.50</td>\n",
       "    </tr>\n",
       "    <tr>\n",
       "      <th>19372</th>\n",
       "      <td>15600</td>\n",
       "      <td>37102.70</td>\n",
       "      <td>-21502.70</td>\n",
       "    </tr>\n",
       "    <tr>\n",
       "      <th>...</th>\n",
       "      <td>...</td>\n",
       "      <td>...</td>\n",
       "      <td>...</td>\n",
       "    </tr>\n",
       "    <tr>\n",
       "      <th>6710</th>\n",
       "      <td>14999</td>\n",
       "      <td>19432.03</td>\n",
       "      <td>-4433.03</td>\n",
       "    </tr>\n",
       "    <tr>\n",
       "      <th>10704</th>\n",
       "      <td>45800</td>\n",
       "      <td>58031.64</td>\n",
       "      <td>-12231.64</td>\n",
       "    </tr>\n",
       "    <tr>\n",
       "      <th>22228</th>\n",
       "      <td>14999</td>\n",
       "      <td>37309.05</td>\n",
       "      <td>-22310.05</td>\n",
       "    </tr>\n",
       "    <tr>\n",
       "      <th>8650</th>\n",
       "      <td>76900</td>\n",
       "      <td>86461.37</td>\n",
       "      <td>-9561.37</td>\n",
       "    </tr>\n",
       "    <tr>\n",
       "      <th>17881</th>\n",
       "      <td>378300</td>\n",
       "      <td>27486.06</td>\n",
       "      <td>350813.94</td>\n",
       "    </tr>\n",
       "  </tbody>\n",
       "</table>\n",
       "<p>5696 rows × 3 columns</p>\n",
       "</div>"
      ],
      "text/plain": [
       "       True Value  Predicted value  Difference\n",
       "15583       41100         54548.57   -13448.57\n",
       "675        125000         89315.98    35684.02\n",
       "5749        30900         70121.73   -39221.73\n",
       "2805        42200         43554.50    -1354.50\n",
       "19372       15600         37102.70   -21502.70\n",
       "...           ...              ...         ...\n",
       "6710        14999         19432.03    -4433.03\n",
       "10704       45800         58031.64   -12231.64\n",
       "22228       14999         37309.05   -22310.05\n",
       "8650        76900         86461.37    -9561.37\n",
       "17881      378300         27486.06   350813.94\n",
       "\n",
       "[5696 rows x 3 columns]"
      ]
     },
     "execution_count": 12,
     "metadata": {},
     "output_type": "execute_result"
    }
   ],
   "source": [
    "pred_y_df = pd.DataFrame({\"True Value\": y_test, \"Predicted value\": y_pred, \"Difference\": y_test-y_pred}).round(2)\n",
    "pred_y_df"
   ]
  }
 ],
 "metadata": {
  "kernelspec": {
   "display_name": "Python 3",
   "language": "python",
   "name": "python3"
  },
  "language_info": {
   "codemirror_mode": {
    "name": "ipython",
    "version": 3
   },
   "file_extension": ".py",
   "mimetype": "text/x-python",
   "name": "python",
   "nbconvert_exporter": "python",
   "pygments_lexer": "ipython3",
   "version": "3.10.12"
  }
 },
 "nbformat": 4,
 "nbformat_minor": 4
}

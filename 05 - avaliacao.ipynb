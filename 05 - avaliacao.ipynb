{
  "cells": [
    {
      "cell_type": "markdown",
      "metadata": {},
      "source": [
        "# Avaliando algoritmos de aprendizagem\n",
        "\n",
        "***"
      ]
    },
    {
      "cell_type": "markdown",
      "metadata": {},
      "source": [
        "## Índice"
      ]
    },
    {
      "cell_type": "markdown",
      "metadata": {},
      "source": [
        "1. [Importando bibliotecas](#importando-bibliotecas)\n",
        "2. [Métricas](#importando-bibliotecas)\n",
        "2. [Validação cruzada](#validação-cruzada)"
      ]
    },
    {
      "cell_type": "markdown",
      "metadata": {},
      "source": [
        "## Importando bibliotecas"
      ]
    },
    {
      "cell_type": "code",
      "execution_count": 33,
      "metadata": {
        "id": "ylPUjb5meV5G"
      },
      "outputs": [],
      "source": [
        "#IMPORTANDO BIBLIOTECAS\n",
        "import numpy as np\n",
        "import pandas as pd\n",
        "\n",
        "from sklearn.datasets import load_wine\n",
        "from sklearn.model_selection import train_test_split, KFold, LeaveOneOut, StratifiedKFold, GridSearchCV\n",
        "\n",
        "from sklearn.linear_model import LogisticRegression\n",
        "\n",
        "from sklearn.metrics import (confusion_matrix, \n",
        "                             ConfusionMatrixDisplay, \n",
        "                             classification_report, \n",
        "                             RocCurveDisplay,\n",
        "                             roc_curve,\n",
        "                             auc, accuracy_score)\n",
        "\n",
        "import warnings\n",
        "warnings.filterwarnings('ignore')"
      ]
    },
    {
      "cell_type": "code",
      "execution_count": 34,
      "metadata": {
        "id": "_wSl-4hvfApl"
      },
      "outputs": [],
      "source": [
        "# Breast Cancer Wisconsin (Diagnostic)\n",
        "# https://archive.ics.uci.edu/\n",
        "dataset = pd.read_csv('https://raw.githubusercontent.com/Francimaria/especializacao_DNN/main/datasets/breast_cancer_wisconsin_diagnostic.csv')"
      ]
    },
    {
      "cell_type": "code",
      "execution_count": 35,
      "metadata": {},
      "outputs": [
        {
          "name": "stdout",
          "output_type": "stream",
          "text": [
            "Tamanho do dataset: (569, 31)\n",
            "\n"
          ]
        },
        {
          "data": {
            "text/html": [
              "<div>\n",
              "<style scoped>\n",
              "    .dataframe tbody tr th:only-of-type {\n",
              "        vertical-align: middle;\n",
              "    }\n",
              "\n",
              "    .dataframe tbody tr th {\n",
              "        vertical-align: top;\n",
              "    }\n",
              "\n",
              "    .dataframe thead th {\n",
              "        text-align: right;\n",
              "    }\n",
              "</style>\n",
              "<table border=\"1\" class=\"dataframe\">\n",
              "  <thead>\n",
              "    <tr style=\"text-align: right;\">\n",
              "      <th></th>\n",
              "      <th>diagnosis</th>\n",
              "      <th>radius_Mean</th>\n",
              "      <th>texture_Mean</th>\n",
              "      <th>periMeter_Mean</th>\n",
              "      <th>area_Mean</th>\n",
              "      <th>sMoothness_Mean</th>\n",
              "      <th>coMpactness_Mean</th>\n",
              "      <th>concavity_Mean</th>\n",
              "      <th>concave points_Mean</th>\n",
              "      <th>syMMetry_Mean</th>\n",
              "      <th>...</th>\n",
              "      <th>radius_worst</th>\n",
              "      <th>texture_worst</th>\n",
              "      <th>periMeter_worst</th>\n",
              "      <th>area_worst</th>\n",
              "      <th>sMoothness_worst</th>\n",
              "      <th>coMpactness_worst</th>\n",
              "      <th>concavity_worst</th>\n",
              "      <th>concave points_worst</th>\n",
              "      <th>syMMetry_worst</th>\n",
              "      <th>fractal_diMension_worst</th>\n",
              "    </tr>\n",
              "  </thead>\n",
              "  <tbody>\n",
              "    <tr>\n",
              "      <th>0</th>\n",
              "      <td>M</td>\n",
              "      <td>17.99</td>\n",
              "      <td>10.38</td>\n",
              "      <td>122.80</td>\n",
              "      <td>1001.0</td>\n",
              "      <td>0.11840</td>\n",
              "      <td>0.27760</td>\n",
              "      <td>0.3001</td>\n",
              "      <td>0.14710</td>\n",
              "      <td>0.2419</td>\n",
              "      <td>...</td>\n",
              "      <td>25.38</td>\n",
              "      <td>17.33</td>\n",
              "      <td>184.60</td>\n",
              "      <td>2019.0</td>\n",
              "      <td>0.1622</td>\n",
              "      <td>0.6656</td>\n",
              "      <td>0.7119</td>\n",
              "      <td>0.2654</td>\n",
              "      <td>0.4601</td>\n",
              "      <td>0.11890</td>\n",
              "    </tr>\n",
              "    <tr>\n",
              "      <th>1</th>\n",
              "      <td>M</td>\n",
              "      <td>20.57</td>\n",
              "      <td>17.77</td>\n",
              "      <td>132.90</td>\n",
              "      <td>1326.0</td>\n",
              "      <td>0.08474</td>\n",
              "      <td>0.07864</td>\n",
              "      <td>0.0869</td>\n",
              "      <td>0.07017</td>\n",
              "      <td>0.1812</td>\n",
              "      <td>...</td>\n",
              "      <td>24.99</td>\n",
              "      <td>23.41</td>\n",
              "      <td>158.80</td>\n",
              "      <td>1956.0</td>\n",
              "      <td>0.1238</td>\n",
              "      <td>0.1866</td>\n",
              "      <td>0.2416</td>\n",
              "      <td>0.1860</td>\n",
              "      <td>0.2750</td>\n",
              "      <td>0.08902</td>\n",
              "    </tr>\n",
              "    <tr>\n",
              "      <th>2</th>\n",
              "      <td>M</td>\n",
              "      <td>19.69</td>\n",
              "      <td>21.25</td>\n",
              "      <td>130.00</td>\n",
              "      <td>1203.0</td>\n",
              "      <td>0.10960</td>\n",
              "      <td>0.15990</td>\n",
              "      <td>0.1974</td>\n",
              "      <td>0.12790</td>\n",
              "      <td>0.2069</td>\n",
              "      <td>...</td>\n",
              "      <td>23.57</td>\n",
              "      <td>25.53</td>\n",
              "      <td>152.50</td>\n",
              "      <td>1709.0</td>\n",
              "      <td>0.1444</td>\n",
              "      <td>0.4245</td>\n",
              "      <td>0.4504</td>\n",
              "      <td>0.2430</td>\n",
              "      <td>0.3613</td>\n",
              "      <td>0.08758</td>\n",
              "    </tr>\n",
              "    <tr>\n",
              "      <th>3</th>\n",
              "      <td>M</td>\n",
              "      <td>11.42</td>\n",
              "      <td>20.38</td>\n",
              "      <td>77.58</td>\n",
              "      <td>386.1</td>\n",
              "      <td>0.14250</td>\n",
              "      <td>0.28390</td>\n",
              "      <td>0.2414</td>\n",
              "      <td>0.10520</td>\n",
              "      <td>0.2597</td>\n",
              "      <td>...</td>\n",
              "      <td>14.91</td>\n",
              "      <td>26.50</td>\n",
              "      <td>98.87</td>\n",
              "      <td>567.7</td>\n",
              "      <td>0.2098</td>\n",
              "      <td>0.8663</td>\n",
              "      <td>0.6869</td>\n",
              "      <td>0.2575</td>\n",
              "      <td>0.6638</td>\n",
              "      <td>0.17300</td>\n",
              "    </tr>\n",
              "    <tr>\n",
              "      <th>4</th>\n",
              "      <td>M</td>\n",
              "      <td>20.29</td>\n",
              "      <td>14.34</td>\n",
              "      <td>135.10</td>\n",
              "      <td>1297.0</td>\n",
              "      <td>0.10030</td>\n",
              "      <td>0.13280</td>\n",
              "      <td>0.1980</td>\n",
              "      <td>0.10430</td>\n",
              "      <td>0.1809</td>\n",
              "      <td>...</td>\n",
              "      <td>22.54</td>\n",
              "      <td>16.67</td>\n",
              "      <td>152.20</td>\n",
              "      <td>1575.0</td>\n",
              "      <td>0.1374</td>\n",
              "      <td>0.2050</td>\n",
              "      <td>0.4000</td>\n",
              "      <td>0.1625</td>\n",
              "      <td>0.2364</td>\n",
              "      <td>0.07678</td>\n",
              "    </tr>\n",
              "  </tbody>\n",
              "</table>\n",
              "<p>5 rows × 31 columns</p>\n",
              "</div>"
            ],
            "text/plain": [
              "  diagnosis  radius_Mean  texture_Mean  periMeter_Mean  area_Mean  \\\n",
              "0         M        17.99         10.38          122.80     1001.0   \n",
              "1         M        20.57         17.77          132.90     1326.0   \n",
              "2         M        19.69         21.25          130.00     1203.0   \n",
              "3         M        11.42         20.38           77.58      386.1   \n",
              "4         M        20.29         14.34          135.10     1297.0   \n",
              "\n",
              "   sMoothness_Mean  coMpactness_Mean  concavity_Mean  concave points_Mean  \\\n",
              "0          0.11840           0.27760          0.3001              0.14710   \n",
              "1          0.08474           0.07864          0.0869              0.07017   \n",
              "2          0.10960           0.15990          0.1974              0.12790   \n",
              "3          0.14250           0.28390          0.2414              0.10520   \n",
              "4          0.10030           0.13280          0.1980              0.10430   \n",
              "\n",
              "   syMMetry_Mean  ...  radius_worst  texture_worst  periMeter_worst  \\\n",
              "0         0.2419  ...         25.38          17.33           184.60   \n",
              "1         0.1812  ...         24.99          23.41           158.80   \n",
              "2         0.2069  ...         23.57          25.53           152.50   \n",
              "3         0.2597  ...         14.91          26.50            98.87   \n",
              "4         0.1809  ...         22.54          16.67           152.20   \n",
              "\n",
              "   area_worst  sMoothness_worst  coMpactness_worst  concavity_worst  \\\n",
              "0      2019.0            0.1622             0.6656           0.7119   \n",
              "1      1956.0            0.1238             0.1866           0.2416   \n",
              "2      1709.0            0.1444             0.4245           0.4504   \n",
              "3       567.7            0.2098             0.8663           0.6869   \n",
              "4      1575.0            0.1374             0.2050           0.4000   \n",
              "\n",
              "   concave points_worst  syMMetry_worst  fractal_diMension_worst  \n",
              "0                0.2654          0.4601                  0.11890  \n",
              "1                0.1860          0.2750                  0.08902  \n",
              "2                0.2430          0.3613                  0.08758  \n",
              "3                0.2575          0.6638                  0.17300  \n",
              "4                0.1625          0.2364                  0.07678  \n",
              "\n",
              "[5 rows x 31 columns]"
            ]
          },
          "execution_count": 35,
          "metadata": {},
          "output_type": "execute_result"
        }
      ],
      "source": [
        "print(f\"Tamanho do dataset: {dataset.shape}\\n\")\n",
        "dataset.head()"
      ]
    },
    {
      "cell_type": "code",
      "execution_count": 36,
      "metadata": {
        "id": "6NMTEmzz_xqP"
      },
      "outputs": [],
      "source": [
        "#Mapeando os valores da classe para inteiro (para fins de visualização)\n",
        "dataset[\"diagnosis\"] = pd.factorize(dataset[\"diagnosis\"])[0]\n",
        "# M = 0 \n",
        "# B = 1\n",
        "\n",
        "\n",
        "#Vamos usar todas as features\n",
        "X = dataset.iloc[:,1:-1]\n",
        "y = dataset.iloc[:,0]"
      ]
    },
    {
      "cell_type": "markdown",
      "metadata": {},
      "source": [
        "## Métricas\n",
        "\n",
        "Existem várias formas de avaliar um modelo de aprendizagem, dependendo da tarefa que o modelo irá realizar.\n",
        "\n",
        "Classificação:\n",
        "- [ROC](https://scikit-learn.org/stable/auto_examples/model_selection/plot_roc.html): Mede o trade-off entre a taxa de falsos positivos e a taxa de verdadeiros positivos. Quanto maior a área abaixo da curva, melhor o classificador.\n",
        "- [Acurácia](https://scikit-learn.org/stable/modules/model_evaluation.html#accuracy-score): Calcula a razão das predições corretas.\n",
        "- [Precisão](https://scikit-learn.org/stable/modules/model_evaluation.html#precision-recall-f-measure-metrics): Mede a capacidade do classificador de não classificar uma instância positiva como negativa.\n",
        "- [Revocação](https://scikit-learn.org/stable/modules/model_evaluation.html#precision-recall-f-measure-metrics) (recall): Mede a capacidade do classificador de encontrar todas as instâncias positivas.\n",
        "- [Score F1](https://scikit-learn.org/stable/modules/model_evaluation.html#precision-recall-f-measure-metrics): É a média harmônica entre precisão e revocação. Caso você não tenha um objetivo concreto que dê prioridade a precisão ou revocação, F1 é uma boa forma de avaliação.\n",
        "\n",
        "Regressão:\n",
        "- [MSE](https://scikit-learn.org/stable/modules/model_evaluation.html#mean-squared-error): Mede o erro quadrático médio entre as previsões do classificador e o dataset."
      ]
    },
    {
      "cell_type": "code",
      "execution_count": 37,
      "metadata": {
        "colab": {
          "base_uri": "https://localhost:8080/"
        },
        "id": "pOsD5kg-CHLB",
        "outputId": "e62b7998-75a1-4c53-8fc2-852eb27b0ea9"
      },
      "outputs": [
        {
          "name": "stdout",
          "output_type": "stream",
          "text": [
            "              precision    recall  f1-score   support\n",
            "\n",
            "           0       0.97      0.95      0.96        63\n",
            "           1       0.97      0.98      0.98       108\n",
            "\n",
            "    accuracy                           0.97       171\n",
            "   macro avg       0.97      0.97      0.97       171\n",
            "weighted avg       0.97      0.97      0.97       171\n",
            "\n"
          ]
        }
      ],
      "source": [
        "# dividir classificador em treino e teste\n",
        "# Random_state: Usar um valor inteiro produzirá os mesmos resultados em diferentes chamadas.\n",
        "X_train, X_test, y_train, y_test = train_test_split(X, y, test_size=0.3, random_state=42)\n",
        "\n",
        "model = LogisticRegression(random_state=42)\n",
        "#treinando o modelo\n",
        "model.fit(X_train, y_train)\n",
        "\n",
        "#predição\n",
        "y_pred = model.predict(X_test)\n",
        "\n",
        "print(classification_report(y_test, y_pred))"
      ]
    },
    {
      "cell_type": "markdown",
      "metadata": {},
      "source": [
        "### Matriz de confusão"
      ]
    },
    {
      "cell_type": "code",
      "execution_count": 38,
      "metadata": {
        "colab": {
          "base_uri": "https://localhost:8080/",
          "height": 296
        },
        "id": "qHVGUC2oCQVT",
        "outputId": "d2e54900-8e32-4244-8f6a-3bb3f9e18133"
      },
      "outputs": [
        {
          "name": "stdout",
          "output_type": "stream",
          "text": [
            "[[ 60   3]\n",
            " [  2 106]]\n",
            "\n",
            " Labels:[0 1] \n",
            "\n"
          ]
        },
        {
          "data": {
            "text/plain": [
              "<sklearn.metrics._plot.confusion_matrix.ConfusionMatrixDisplay at 0x7f3016e35e40>"
            ]
          },
          "execution_count": 38,
          "metadata": {},
          "output_type": "execute_result"
        },
        {
          "data": {
            "image/png": "[encoded data removed]",
            "text/plain": [
              "<Figure size 640x480 with 2 Axes>"
            ]
          },
          "metadata": {},
          "output_type": "display_data"
        }
      ],
      "source": [
        "# a função confusion matrix retorna uma matriz com a contagem de como cada \n",
        "# uma das classes está sendo classificada corretamente ou erroneamente\n",
        "cm = confusion_matrix(y_test, y_pred, labels=model.classes_)\n",
        "print(cm)\n",
        "\n",
        "print(f\"\\n Labels:{model.classes_} \\n\")\n",
        "\n",
        "#display_labels - define como será a ordem das classes na matriz\n",
        "disp_cm = ConfusionMatrixDisplay(confusion_matrix=cm,display_labels=model.classes_)\n",
        "disp_cm.plot()"
      ]
    },
    {
      "cell_type": "markdown",
      "metadata": {},
      "source": [
        "### ROC Curve"
      ]
    },
    {
      "cell_type": "code",
      "execution_count": 39,
      "metadata": {
        "colab": {
          "base_uri": "https://localhost:8080/",
          "height": 296
        },
        "id": "OgxnPWoxCSLm",
        "outputId": "f62ec4c8-9d4e-40d4-82d6-4a48b16fea85"
      },
      "outputs": [
        {
          "name": "stdout",
          "output_type": "stream",
          "text": [
            "[[1.79762967e-01 8.20237033e-01]\n",
            " [9.99999998e-01 2.06907600e-09]\n",
            " [9.97836073e-01 2.16392705e-03]\n",
            " [6.09332132e-03 9.93906679e-01]\n",
            " [1.58008386e-03 9.98419916e-01]\n",
            " [1.00000000e+00 4.37524638e-10]\n",
            " [1.00000000e+00 4.64215461e-13]\n",
            " [9.91090859e-01 8.90914053e-03]\n",
            " [1.92428742e-03 9.98075713e-01]\n",
            " [1.67249705e-02 9.83275030e-01]\n",
            " [4.97434297e-02 9.50256570e-01]\n",
            " [9.99528588e-01 4.71412273e-04]\n",
            " [9.83151068e-03 9.90168489e-01]\n",
            " [8.20567649e-01 1.79432351e-01]\n",
            " [2.94023180e-03 9.97059768e-01]\n",
            " [9.98732395e-01 1.26760527e-03]\n",
            " [3.85355471e-03 9.96146445e-01]\n",
            " [7.55009217e-04 9.99244991e-01]\n",
            " [2.97380675e-03 9.97026193e-01]\n",
            " [9.99999910e-01 9.03541478e-08]\n",
            " [1.89560668e-01 8.10439332e-01]\n",
            " [2.19254996e-02 9.78074500e-01]\n",
            " [9.99999999e-01 8.17784859e-10]\n",
            " [6.65316954e-03 9.93346830e-01]\n",
            " [1.52776312e-02 9.84722369e-01]\n",
            " [1.17553773e-03 9.98824462e-01]\n",
            " [5.01565487e-03 9.94984345e-01]\n",
            " [1.29402504e-02 9.87059750e-01]\n",
            " [7.79724280e-03 9.92202757e-01]\n",
            " [9.99999992e-01 7.79429326e-09]\n",
            " [8.83565418e-03 9.91164346e-01]\n",
            " [1.74001240e-03 9.98259988e-01]\n",
            " [3.46602808e-02 9.65339719e-01]\n",
            " [2.51626654e-02 9.74837335e-01]\n",
            " [3.11062951e-03 9.96889370e-01]\n",
            " [7.35412742e-03 9.92645873e-01]\n",
            " [9.95575394e-01 4.42460564e-03]\n",
            " [8.73200072e-03 9.91267999e-01]\n",
            " [9.99996635e-01 3.36479186e-06]\n",
            " [2.08461836e-01 7.91538164e-01]\n",
            " [4.72983622e-03 9.95270164e-01]\n",
            " [9.98998883e-01 1.00111747e-03]\n",
            " [2.58277895e-03 9.97417221e-01]\n",
            " [1.59285337e-02 9.84071466e-01]\n",
            " [4.20556648e-03 9.95794434e-01]\n",
            " [5.76516826e-02 9.42348317e-01]\n",
            " [2.59113416e-03 9.97408866e-01]\n",
            " [1.75056871e-02 9.82494313e-01]\n",
            " [8.82803771e-02 9.11719623e-01]\n",
            " [6.60073603e-03 9.93399264e-01]\n",
            " [9.99922899e-01 7.71007190e-05]\n",
            " [9.99999999e-01 6.71589189e-10]\n",
            " [1.24797845e-01 8.75202155e-01]\n",
            " [1.81771282e-03 9.98182287e-01]\n",
            " [2.91797689e-03 9.97082023e-01]\n",
            " [2.63823198e-02 9.73617680e-01]\n",
            " [5.00784681e-03 9.94992153e-01]\n",
            " [1.00000000e+00 1.27289419e-14]\n",
            " [3.81482531e-01 6.18517469e-01]\n",
            " [8.07555154e-04 9.99192445e-01]\n",
            " [2.17352974e-02 9.78264703e-01]\n",
            " [9.99999864e-01 1.36485316e-07]\n",
            " [1.00000000e+00 6.23869798e-12]\n",
            " [6.65466731e-02 9.33453327e-01]\n",
            " [5.74940129e-03 9.94250599e-01]\n",
            " [1.18626896e-01 8.81373104e-01]\n",
            " [9.99974214e-01 2.57858981e-05]\n",
            " [9.99999998e-01 1.56050696e-09]\n",
            " [3.25984277e-03 9.96740157e-01]\n",
            " [3.98020798e-02 9.60197920e-01]\n",
            " [9.70957231e-01 2.90427695e-02]\n",
            " [9.99965389e-01 3.46111042e-05]\n",
            " [3.41404847e-03 9.96585952e-01]\n",
            " [8.85274329e-01 1.14725671e-01]\n",
            " [3.71192859e-02 9.62880714e-01]\n",
            " [2.85517393e-03 9.97144826e-01]\n",
            " [4.37169281e-02 9.56283072e-01]\n",
            " [5.11482095e-01 4.88517905e-01]\n",
            " [3.86120362e-03 9.96138796e-01]\n",
            " [6.78733740e-03 9.93212663e-01]\n",
            " [9.98726986e-01 1.27301413e-03]\n",
            " [4.62522645e-03 9.95374774e-01]\n",
            " [4.45090182e-01 5.54909818e-01]\n",
            " [1.00000000e+00 1.43441422e-11]\n",
            " [9.98189700e-01 1.81030050e-03]\n",
            " [9.65436082e-01 3.45639184e-02]\n",
            " [9.94052650e-01 5.94735004e-03]\n",
            " [9.99999805e-01 1.94753200e-07]\n",
            " [1.17540308e-02 9.88245969e-01]\n",
            " [7.76254770e-03 9.92237452e-01]\n",
            " [1.91823936e-02 9.80817606e-01]\n",
            " [9.72949218e-02 9.02705078e-01]\n",
            " [1.42325343e-01 8.57674657e-01]\n",
            " [7.18474938e-03 9.92815251e-01]\n",
            " [2.60477486e-03 9.97395225e-01]\n",
            " [5.74083178e-03 9.94259168e-01]\n",
            " [9.99999969e-01 3.12168129e-08]\n",
            " [9.99998070e-01 1.92960259e-06]\n",
            " [6.80242779e-04 9.99319757e-01]\n",
            " [9.99865233e-01 1.34767003e-04]\n",
            " [9.99821197e-01 1.78803401e-04]\n",
            " [3.86820252e-04 9.99613180e-01]\n",
            " [9.99999999e-01 1.46050156e-09]\n",
            " [9.98082001e-01 1.91799943e-03]\n",
            " [1.18434834e-01 8.81565166e-01]\n",
            " [9.42019622e-02 9.05798038e-01]\n",
            " [1.61753331e-02 9.83824667e-01]\n",
            " [1.00000000e+00 6.32637890e-19]\n",
            " [4.29545047e-02 9.57045495e-01]\n",
            " [9.81641502e-02 9.01835850e-01]\n",
            " [9.99829150e-01 1.70850007e-04]\n",
            " [5.25816877e-03 9.94741831e-01]\n",
            " [7.00619745e-01 2.99380255e-01]\n",
            " [1.00000000e+00 1.79832693e-29]\n",
            " [6.04524269e-02 9.39547573e-01]\n",
            " [1.00000000e+00 7.89031424e-11]\n",
            " [2.91629140e-03 9.97083709e-01]\n",
            " [8.60227923e-02 9.13977208e-01]\n",
            " [2.81217711e-03 9.97187823e-01]\n",
            " [9.98665881e-01 1.33411882e-03]\n",
            " [7.64506384e-01 2.35493616e-01]\n",
            " [2.92971083e-03 9.97070289e-01]\n",
            " [1.24671552e-02 9.87532845e-01]\n",
            " [9.99979839e-01 2.01605842e-05]\n",
            " [6.65859247e-02 9.33414075e-01]\n",
            " [9.99999998e-01 1.55145518e-09]\n",
            " [9.98942188e-01 1.05781162e-03]\n",
            " [2.51935633e-02 9.74806437e-01]\n",
            " [4.67360917e-03 9.95326391e-01]\n",
            " [9.99999987e-01 1.25515143e-08]\n",
            " [1.00000000e+00 5.12229835e-15]\n",
            " [9.99018256e-01 9.81744332e-04]\n",
            " [1.54873813e-01 8.45126187e-01]\n",
            " [3.16525367e-03 9.96834746e-01]\n",
            " [5.27234866e-02 9.47276513e-01]\n",
            " [9.59859138e-01 4.01408623e-02]\n",
            " [6.18495500e-02 9.38150450e-01]\n",
            " [1.10806409e-02 9.88919359e-01]\n",
            " [1.75266794e-01 8.24733206e-01]\n",
            " [9.82295345e-01 1.77046548e-02]\n",
            " [1.27048386e-02 9.87295161e-01]\n",
            " [1.00000000e+00 1.43268903e-15]\n",
            " [1.07672328e-03 9.98923277e-01]\n",
            " [5.77438285e-04 9.99422562e-01]\n",
            " [9.80852269e-01 1.91477307e-02]\n",
            " [2.85519882e-02 9.71448012e-01]\n",
            " [9.99993812e-01 6.18843232e-06]\n",
            " [9.99999866e-01 1.34081968e-07]\n",
            " [5.73831689e-01 4.26168311e-01]\n",
            " [7.97887719e-03 9.92021123e-01]\n",
            " [9.72399473e-01 2.76005272e-02]\n",
            " [1.88554550e-03 9.98114454e-01]\n",
            " [3.24449138e-03 9.96755509e-01]\n",
            " [5.31499194e-02 9.46850081e-01]\n",
            " [2.22188759e-02 9.77781124e-01]\n",
            " [1.00000000e+00 5.04994522e-17]\n",
            " [9.99546632e-01 4.53367886e-04]\n",
            " [3.71436780e-02 9.62856322e-01]\n",
            " [5.30935308e-03 9.94690647e-01]\n",
            " [5.42908790e-04 9.99457091e-01]\n",
            " [3.16306792e-05 9.99968369e-01]\n",
            " [1.53268510e-02 9.84673149e-01]\n",
            " [1.31551904e-02 9.86844810e-01]\n",
            " [8.13890367e-03 9.91861096e-01]\n",
            " [9.26703465e-01 7.32965351e-02]\n",
            " [2.09675183e-02 9.79032482e-01]\n",
            " [1.18791258e-03 9.98812087e-01]\n",
            " [2.56621049e-01 7.43378951e-01]\n",
            " [2.13568162e-02 9.78643184e-01]\n",
            " [8.95621981e-01 1.04378019e-01]\n",
            " [9.98046600e-02 9.00195340e-01]]\n"
          ]
        },
        {
          "data": {
            "text/plain": [
              "<sklearn.metrics._plot.roc_curve.RocCurveDisplay at 0x7f30177568f0>"
            ]
          },
          "execution_count": 39,
          "metadata": {},
          "output_type": "execute_result"
        },
        {
          "data": {
            "image/png": "[encoded data removed]",
            "text/plain": [
              "<Figure size 640x480 with 1 Axes>"
            ]
          },
          "metadata": {},
          "output_type": "display_data"
        }
      ],
      "source": [
        "y_proba = model.predict_proba(X_test)\n",
        "fpr, tpr, thresholds = roc_curve(y_test, y_proba[:, 1])\n",
        "#Área sob a curva ROC (AUC)\n",
        "roc_auc = auc(fpr, tpr)\n",
        "disp_roc_curve = RocCurveDisplay(fpr=fpr, tpr=tpr, roc_auc=roc_auc,\n",
        "                                 estimator_name=model.__class__.__name__)\n",
        "disp_roc_curve.plot()"
      ]
    },
    {
      "cell_type": "markdown",
      "metadata": {},
      "source": [
        "## Validação cruzada"
      ]
    },
    {
      "cell_type": "markdown",
      "metadata": {
        "id": "Em3S9KvfdJU6"
      },
      "source": [
        "### HOLD-OUT\n",
        "\n",
        "Uma pequena fração do dataset é separada para teste e outra para treino. A fração de treino pode ser dividida subsequentemente em quaisquer outros subconjuntos, o importante é garantir que o dataset de teste não é utilizado durante treino, otimização ou concepção do modelo."
      ]
    },
    {
      "cell_type": "code",
      "execution_count": 40,
      "metadata": {},
      "outputs": [],
      "source": [
        "def test_model(X_train, X_test, y_train, y_test, model_class=LogisticRegression):\n",
        "    model = model_class(random_state=199)\n",
        "    model.fit(X_train, y_train)\n",
        "\n",
        "    #predição\n",
        "    y_pred = model.predict(X_test)\n",
        "        \n",
        "    return accuracy_score(y_test,y_pred)"
      ]
    },
    {
      "cell_type": "markdown",
      "metadata": {},
      "source": [
        "Um simples hold-out depende bastante da seleção inicial."
      ]
    },
    {
      "cell_type": "code",
      "execution_count": 41,
      "metadata": {
        "colab": {
          "base_uri": "https://localhost:8080/"
        },
        "id": "fEw-tjqICmAc",
        "outputId": "e3cc1724-7738-4093-c1fb-4a79e2f622b1"
      },
      "outputs": [
        {
          "name": "stdout",
          "output_type": "stream",
          "text": [
            "\n",
            " Random state: 199\n",
            " Acurácia: 0.944\n",
            "\n",
            " Random state: 200\n",
            " Acurácia: 0.916\n",
            "\n",
            " Random state: 201\n",
            " Acurácia: 0.958\n",
            "\n",
            " Aleatório\n",
            " Acurácia: 0.951\n"
          ]
        }
      ],
      "source": [
        "#random_state deve estar entre 0 e 2**32 - 1\n",
        "random_state = 199\n",
        "print(\"\\n Random state: %d\" % random_state)\n",
        "X_train, X_test, y_train, y_test = train_test_split(X, y, random_state=random_state)\n",
        "print(f\" Acurácia: %.3f\" % (test_model(X_train, X_test, y_train, y_test)))\n",
        "\n",
        "random_state = 200\n",
        "print(\"\\n Random state: %d\" % random_state)\n",
        "X_train, X_test, y_train, y_test = train_test_split(X, y, random_state=random_state)\n",
        "print(f\" Acurácia: %.3f\" % (test_model(X_train, X_test, y_train, y_test)))\n",
        "\n",
        "random_state = 201\n",
        "print(\"\\n Random state: %d\" % random_state)\n",
        "X_train, X_test, y_train, y_test = train_test_split(X, y, random_state=random_state)\n",
        "print(f\" Acurácia: %.3f\" % (test_model(X_train, X_test, y_train, y_test)))\n",
        "\n",
        "#Aleatório\n",
        "print(\"\\n Aleatório\")\n",
        "X_train, X_test, y_train, y_test = train_test_split(X, y)\n",
        "print(f\" Acurácia: %.3f\" % (test_model(X_train, X_test, y_train, y_test)))"
      ]
    },
    {
      "cell_type": "markdown",
      "metadata": {},
      "source": [
        "Podemos adicionar repetição e realizar vários hold-outs para avaliar várias vezes a performance de um algoritmo."
      ]
    },
    {
      "cell_type": "code",
      "execution_count": 42,
      "metadata": {
        "colab": {
          "base_uri": "https://localhost:8080/"
        },
        "id": "I3TYQnkQCtNY",
        "outputId": "b81ba792-70fa-4573-a36c-7c3f22ce0aad"
      },
      "outputs": [
        {
          "name": "stdout",
          "output_type": "stream",
          "text": [
            "Min: 0.902 Max: 0.979\n",
            "Hold-out: 0.942 +- (0.019)\n"
          ]
        }
      ],
      "source": [
        "def hold_out():\n",
        "  accuracies_list = []\n",
        "  for i in range(0, 30):\n",
        "      \n",
        "      X_train, X_test, y_train, y_test = train_test_split(X, y, random_state=199+i) \n",
        "      accuracies_list.append(test_model(X_train, X_test, y_train, y_test))\n",
        "\n",
        "  accuracies = np.array(accuracies_list)\n",
        "  print(\"Min: %.3f Max: %.3f\" %(accuracies.min(), accuracies.max()))\n",
        "  print(\"Hold-out: %.3f +- (%.3f)\" %(accuracies.mean(), accuracies.std()))\n",
        "\n",
        "hold_out()"
      ]
    },
    {
      "cell_type": "markdown",
      "metadata": {},
      "source": [
        "Outro parâmetro importante na função _train_test_split_ é o _stratify_. Ele controla se a proporção das classes no dataset de treino e teste deve ser mantida e tenta selecionar as instâncias que estão faltando para se aproximar da distribuição original."
      ]
    },
    {
      "cell_type": "code",
      "execution_count": 43,
      "metadata": {},
      "outputs": [
        {
          "name": "stdout",
          "output_type": "stream",
          "text": [
            "Proporções por classe no dataset em geral:\n",
            "Classe 0: 37.26%\n",
            "Classe 1: 62.74%\n",
            "\n",
            "\n",
            "Proporções por classe no dataset de treino sem estratificação:\n",
            "Classe 0: 34.92%\n",
            "Classe 1: 65.08%\n",
            "\n",
            "\n",
            "Proporções por classe no dataset de treino com estratificação:\n",
            "Classe 0: 37.19%\n",
            "Classe 1: 62.81%\n"
          ]
        }
      ],
      "source": [
        "def print_distribution(arr, print_nl=True):\n",
        "    arr = np.unique(arr, return_counts=True)[1] / arr.count()\n",
        "    for i in range(arr.shape[0]):\n",
        "        print(\"Classe %d: %.2f%%\" %(i, arr[i]*100))\n",
        "\n",
        "    if print_nl:\n",
        "        print(\"\\n\")\n",
        "\n",
        "_, _, y_train, _ = train_test_split(X, y, test_size=0.3, random_state=199)\n",
        "_, _, y_train_strat, _ = train_test_split(X, y, test_size=0.3, random_state=199, stratify=y)\n",
        "\n",
        "print(\"Proporções por classe no dataset em geral:\")\n",
        "print_distribution(y)\n",
        "\n",
        "print(\"Proporções por classe no dataset de treino sem estratificação:\")\n",
        "print_distribution(y_train)\n",
        "\n",
        "print(\"Proporções por classe no dataset de treino com estratificação:\")\n",
        "print_distribution(y_train_strat, print_nl=False)"
      ]
    },
    {
      "cell_type": "markdown",
      "metadata": {
        "id": "XVk2rbKLF5ZF"
      },
      "source": [
        "### LEAVE-ONE-OUT\n",
        "\n",
        "Fornece índices de treinamento/teste para dividir os dados em conjuntos de treinamento/teste.\n",
        "\n",
        "Cada amostra é usada uma vez como um conjunto de teste (singleton) enquanto as amostras restantes formam o conjunto de treinamento. [Link](https://scikit-learn.org/stable/modules/generated/sklearn.model_selection.LeaveOneOut.html)"
      ]
    },
    {
      "cell_type": "code",
      "execution_count": 44,
      "metadata": {
        "colab": {
          "base_uri": "https://localhost:8080/"
        },
        "id": "fdbAoffG4N98",
        "outputId": "8ef5fc87-dbab-474e-881a-6b4523b8ed44"
      },
      "outputs": [],
      "source": [
        "def loo(loo):\n",
        "    y_true, y_pred = list(), list()\n",
        "    for train_index, test_index in loo.split(X):\n",
        "          X_train, X_test = X.iloc[train_index], X.iloc[test_index]\n",
        "          y_train, y_test = y.iloc[train_index], y.iloc[test_index]\n",
        "          model = LogisticRegression(random_state=199)\n",
        "          model.fit(X_train, y_train)\n",
        "          pred = model.predict(X_test)\n",
        "          y_true.append(y_test)\n",
        "          y_pred.append(pred[0])\n",
        "          \n",
        "    print(\"Leave-One-Out: %.3f\" %(accuracy_score(y_true, y_pred)))\n",
        "loo(LeaveOneOut())"
      ]
    },
    {
      "cell_type": "markdown",
      "metadata": {
        "id": "cy44n7kecrWw"
      },
      "source": [
        "### K-FOLD\n",
        "\n",
        "Fornece índices de treinamento/teste para dividir dados em conjuntos de treinamento/teste. \n",
        "\n",
        "Divide o conjunto de dados em k folds consecutivos (sem embaralhar \"***shuffle***\" por padrão)"
      ]
    },
    {
      "cell_type": "code",
      "execution_count": null,
      "metadata": {
        "colab": {
          "base_uri": "https://localhost:8080/"
        },
        "id": "Hdz5dVs6Cyb0",
        "outputId": "f2f2902c-6cb5-4e71-db63-2d27736e543e"
      },
      "outputs": [
        {
          "name": "stdout",
          "output_type": "stream",
          "text": [
            "Fold 0: 0.912\n"
          ]
        },
        {
          "name": "stdout",
          "output_type": "stream",
          "text": [
            "Fold 1: 0.956\n",
            "Fold 2: 0.974\n",
            "Fold 3: 0.939\n",
            "Fold 4: 0.947\n",
            "\n",
            "Acurácia média (desvio): 0.946 +- (0.020)\n"
          ]
        }
      ],
      "source": [
        "def evaluate_model_with_kfold(kf):\n",
        "    accuracies_list = []\n",
        "    fold = 0\n",
        "    for train, test in kf.split(X, y):\n",
        "        \n",
        "        X_train, X_test = X.iloc[train], X.iloc[test]\n",
        "        y_train, y_test = y.iloc[train], y.iloc[test]\n",
        "\n",
        "        model = LogisticRegression(random_state=199)\n",
        "        model.fit(X_train, y_train)\n",
        "        y_pred = model.predict(X_test)\n",
        "        \n",
        "        print(\"Fold %d: %.3f\" %(fold, accuracy_score(y_test, y_pred)))\n",
        "        \n",
        "        accuracies_list.append(accuracy_score(y_test, y_pred))\n",
        "        fold += 1\n",
        "\n",
        "    accuracies = np.array(accuracies_list)\n",
        "    print(\"\\nAcurácia média (desvio): %.3f +- (%.3f)\" %(accuracies.mean(), accuracies.std()))\n",
        "\n",
        "# n_splits deve ser pelo menos 2\n",
        "evaluate_model_with_kfold(KFold(n_splits=5))"
      ]
    },
    {
      "cell_type": "markdown",
      "metadata": {},
      "source": [
        "Observe que o _k-Fold_ cria as partições sequencialmente, o que pode interferir na distribuição das classes devido a alguma ordenação no dataset. Use o parâmetro _shuffle_ para controlar a permutação do dataset antes de realizar o particionamento. E como no _hold-out_, a subdivisão aleatórias com _k-Fold_ e _shuffle_ também interfere na distribuição das classes."
      ]
    },
    {
      "cell_type": "code",
      "execution_count": null,
      "metadata": {},
      "outputs": [
        {
          "name": "stdout",
          "output_type": "stream",
          "text": [
            "Proporções por classe no dataset em geral:\n",
            "Classe 0: 37.26%\n",
            "Classe 1: 62.74%\n",
            "\n",
            "\n",
            "Fold 0\n",
            "Classe 0: 30.34%\n",
            "Classe 1: 69.66%\n",
            "\n",
            "\n",
            "Fold 1\n",
            "Classe 0: 36.94%\n",
            "Classe 1: 63.06%\n",
            "\n",
            "\n",
            "Fold 2\n",
            "Classe 0: 44.47%\n",
            "Classe 1: 55.53%\n"
          ]
        }
      ],
      "source": [
        "print(\"Proporções por classe no dataset em geral:\")\n",
        "print_distribution(y)\n",
        "\n",
        "kf = KFold(n_splits=3)\n",
        "start_print = False\n",
        "fold = 0\n",
        "for train, test in kf.split(X, y):\n",
        "    print(\"Fold %d\" %(fold))\n",
        "    print_distribution(y[train], print_nl=(fold != 2))\n",
        "    fold += 1"
      ]
    },
    {
      "cell_type": "markdown",
      "metadata": {},
      "source": [
        "Para resolver isso, _StratifiedKFold_ realiza a estratificação das classes. Outras formas de seleção estão disponíveis [aqui](https://scikit-learn.org/stable/modules/classes.html#module-sklearn.model_selection)."
      ]
    },
    {
      "cell_type": "code",
      "execution_count": null,
      "metadata": {},
      "outputs": [
        {
          "name": "stdout",
          "output_type": "stream",
          "text": [
            "Proporções por classe no dataset em geral:\n",
            "Classe 0: 37.26%\n",
            "Classe 1: 62.74%\n",
            "\n",
            "\n",
            "Fold 0\n",
            "Classe 0: 37.20%\n",
            "Classe 1: 62.80%\n",
            "\n",
            "\n",
            "Fold 1\n",
            "Classe 0: 37.20%\n",
            "Classe 1: 62.80%\n",
            "\n",
            "\n",
            "Fold 2\n",
            "Classe 0: 37.37%\n",
            "Classe 1: 62.63%\n"
          ]
        }
      ],
      "source": [
        "print(\"Proporções por classe no dataset em geral:\")\n",
        "print_distribution(y)\n",
        "\n",
        "kf = StratifiedKFold(n_splits=3, shuffle=True, random_state=199)\n",
        "fold = 0\n",
        "for train, test in kf.split(X, y):\n",
        "    print(\"Fold %d\" %(fold))\n",
        "    print_distribution(y[train], print_nl=(fold != 2))\n",
        "    fold += 1"
      ]
    },
    {
      "cell_type": "code",
      "execution_count": null,
      "metadata": {},
      "outputs": [
        {
          "name": "stdout",
          "output_type": "stream",
          "text": [
            "Fold 0: 0.947\n",
            "Fold 1: 0.956\n"
          ]
        },
        {
          "name": "stdout",
          "output_type": "stream",
          "text": [
            "Fold 2: 0.939\n",
            "Fold 3: 0.921\n",
            "Fold 4: 0.956\n",
            "\n",
            "Acurácia média (desvio): 0.944 +- (0.013)\n"
          ]
        }
      ],
      "source": [
        "evaluate_model_with_kfold(StratifiedKFold(n_splits=5, shuffle=True, random_state=199))"
      ]
    }
  ],
  "metadata": {
    "colab": {
      "collapsed_sections": [],
      "name": "06-Avaliação_Validação.ipynb",
      "provenance": []
    },
    "kernelspec": {
      "display_name": "Python 3",
      "name": "python3"
    },
    "language_info": {
      "codemirror_mode": {
        "name": "ipython",
        "version": 3
      },
      "file_extension": ".py",
      "mimetype": "text/x-python",
      "name": "python",
      "nbconvert_exporter": "python",
      "pygments_lexer": "ipython3",
      "version": "3.10.12"
    }
  },
  "nbformat": 4,
  "nbformat_minor": 0
}
